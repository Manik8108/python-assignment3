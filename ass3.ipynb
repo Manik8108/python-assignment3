{
 "cells": [
  {
   "cell_type": "code",
   "execution_count": 2,
   "id": "3cd15fdb-5b83-45c2-8976-16eb884c42d6",
   "metadata": {},
   "outputs": [
    {
     "name": "stdout",
     "output_type": "stream",
     "text": [
      "\n",
      "Here is a list of the Python keywords.  Enter any keyword to get more help.\n",
      "\n",
      "False               class               from                or\n",
      "None                continue            global              pass\n",
      "True                def                 if                  raise\n",
      "and                 del                 import              return\n",
      "as                  elif                in                  try\n",
      "assert              else                is                  while\n",
      "async               except              lambda              with\n",
      "await               finally             nonlocal            yield\n",
      "break               for                 not                 \n",
      "\n"
     ]
    }
   ],
   "source": [
    "1. #Explain the significance of python keywords and provide example of five keywords.\n",
    "\n",
    "# Keywords<< Keywords are pre-defined words in python. It is reserved words that cann't be used as a variable declaration.\n",
    "\n",
    "help(\"keywords\")"
   ]
  },
  {
   "cell_type": "code",
   "execution_count": 4,
   "id": "20376b99-649d-40e2-803b-d5bb0bb699d9",
   "metadata": {},
   "outputs": [],
   "source": [
    "#Examples of keywords\n",
    "\n",
    "def sq(x):\n",
    "    return x**2"
   ]
  },
  {
   "cell_type": "code",
   "execution_count": 5,
   "id": "568ba464-4f50-442b-989c-b3af691e9e5e",
   "metadata": {},
   "outputs": [
    {
     "data": {
      "text/plain": [
       "9"
      ]
     },
     "execution_count": 5,
     "metadata": {},
     "output_type": "execute_result"
    }
   ],
   "source": [
    "sq(3)"
   ]
  },
  {
   "cell_type": "code",
   "execution_count": 7,
   "id": "bb945108-4728-4a78-8e21-3ee6ac0b67dd",
   "metadata": {},
   "outputs": [
    {
     "data": {
      "text/plain": [
       "11"
      ]
     },
     "execution_count": 7,
     "metadata": {},
     "output_type": "execute_result"
    }
   ],
   "source": [
    "add = lambda a,b: a+b\n",
    "add(4,7)"
   ]
  },
  {
   "cell_type": "code",
   "execution_count": 8,
   "id": "33182f8d-5ab9-40d7-8c43-d34c262eb5c0",
   "metadata": {},
   "outputs": [
    {
     "name": "stdout",
     "output_type": "stream",
     "text": [
      "The no. is greater than 40:\n"
     ]
    }
   ],
   "source": [
    "a = 50\n",
    "if a>40:\n",
    "    print(\"The no. is greater than 40:\")"
   ]
  },
  {
   "cell_type": "code",
   "execution_count": 10,
   "id": "d2565c37-69f5-48ee-8283-368f20e11b0c",
   "metadata": {},
   "outputs": [
    {
     "name": "stdout",
     "output_type": "stream",
     "text": [
      "7\n",
      "6\n",
      "5\n",
      "4\n",
      "3\n",
      "2\n",
      "1\n"
     ]
    }
   ],
   "source": [
    "count = 7\n",
    "while(count > 0):\n",
    "    print(count)\n",
    "    count = count-1"
   ]
  },
  {
   "cell_type": "code",
   "execution_count": 11,
   "id": "95337cbd-7e4a-4f47-ae9d-df3994c0bf9d",
   "metadata": {},
   "outputs": [
    {
     "name": "stdout",
     "output_type": "stream",
     "text": [
      "w\n",
      "e\n",
      "l\n",
      "c\n",
      "o\n",
      "m\n",
      "e\n"
     ]
    }
   ],
   "source": [
    "a = \"welcome\"\n",
    "for char in a:\n",
    "    print(char)"
   ]
  },
  {
   "cell_type": "code",
   "execution_count": 2,
   "id": "7b1079c4-bd59-4d75-b614-0de57336392c",
   "metadata": {},
   "outputs": [],
   "source": [
    "2. #Describe the rules for defining identifiers in python and provide an example.\n",
    "\n",
    "# Rules for identifiers>>(a) It should not be start with digit.\n",
    "#(b)It is case senstive.\n",
    "#(c) We can't use reserved words.\n",
    "\n",
    "#Example\n",
    "\n",
    "class A:\n",
    "    def m1(self):\n",
    "        print(\"Sonia\")\n",
    "        print(\"Manik\")\n",
    "        print(\"Pravya\")"
   ]
  },
  {
   "cell_type": "code",
   "execution_count": 4,
   "id": "ab47252d-1e26-447b-b4e1-32f6eba9cad1",
   "metadata": {},
   "outputs": [],
   "source": [
    "obj=A()"
   ]
  },
  {
   "cell_type": "code",
   "execution_count": 5,
   "id": "7f58a5d4-9712-430d-96ff-757579bc56d0",
   "metadata": {},
   "outputs": [
    {
     "name": "stdout",
     "output_type": "stream",
     "text": [
      "Sonia\n",
      "Manik\n",
      "Pravya\n"
     ]
    }
   ],
   "source": [
    "obj.m1()"
   ]
  },
  {
   "cell_type": "code",
   "execution_count": 6,
   "id": "73e1788a-7843-4b0c-83b4-f7c45efe250d",
   "metadata": {},
   "outputs": [
    {
     "name": "stdout",
     "output_type": "stream",
     "text": [
      "Pwskills\n"
     ]
    }
   ],
   "source": [
    "3. #What are comments in python, and why are they useful? provide an example.\n",
    "\n",
    "#Comments>> Comments are nothing but ignorable part of python program that are ignored bt the interpreted.\n",
    "\n",
    "#Useful>>Comments in python is short descriptions along with the code to increase its readability.\n",
    "\n",
    "#There are two types of comments>>(a) Single line comment (b) multi-line comment\n",
    "\n",
    "#Example>>\n",
    "\n",
    "print(\"Pwskills\")     #print() is used to display on the screen."
   ]
  },
  {
   "cell_type": "code",
   "execution_count": 10,
   "id": "60c73005-6597-4155-829d-5df7606da248",
   "metadata": {},
   "outputs": [],
   "source": [
    "#print(\"sonia\") #single line comment"
   ]
  },
  {
   "cell_type": "code",
   "execution_count": 9,
   "id": "388ada8e-761d-4c80-97ca-d2eee8de2e32",
   "metadata": {},
   "outputs": [
    {
     "name": "stdout",
     "output_type": "stream",
     "text": [
      "Welcome Shourya\n"
     ]
    },
    {
     "data": {
      "text/plain": [
       "'print(\"Data Analytics\")\\nprint(\"Data science\")'"
      ]
     },
     "execution_count": 9,
     "metadata": {},
     "output_type": "execute_result"
    }
   ],
   "source": [
    "print(\"Welcome Shourya\")\n",
    "'''print(\"Data Analytics\") #multiline comment\n",
    "print(\"Data science\")'''"
   ]
  },
  {
   "cell_type": "code",
   "execution_count": 13,
   "id": "c734792e-e80a-4854-9f1c-1fc1dcba9fcb",
   "metadata": {},
   "outputs": [
    {
     "name": "stdout",
     "output_type": "stream",
     "text": [
      "Number 5 is greater\n"
     ]
    }
   ],
   "source": [
    "4.#Why is proper indentation important in python?\n",
    "\n",
    "#Indentation>>Indentation refers to the spaces at the beginning of a code line.indentation in python is very important to use indicate a block of code.\n",
    "\n",
    "#Example >>\n",
    "if 5>4:\n",
    "    print(\"Number 5 is greater\")"
   ]
  },
  {
   "cell_type": "code",
   "execution_count": null,
   "id": "1c0a7478-1a5b-455c-b25f-26e4439afbca",
   "metadata": {},
   "outputs": [],
   "source": [
    "5. #What happens if indentation is incorrect in python?\n",
    "\n",
    "#Python is a procedural language.The indentation can occur when the spaces or tabs are not placed properly.if there is an error due to indentation it will come in between the execution and can be a show stopper."
   ]
  },
  {
   "cell_type": "code",
   "execution_count": 1,
   "id": "5511f071-6376-4ce4-a772-47653919c54d",
   "metadata": {},
   "outputs": [],
   "source": [
    "6. #Differentiate between expression and statement in python with examples?\n",
    "\n",
    "#Expression >> A combination of operand and operators is called expression.The expression in python produces some value after being interpreted by the python interpret\n",
    "\n",
    "a = 10"
   ]
  },
  {
   "cell_type": "code",
   "execution_count": 2,
   "id": "5df94361-5e03-446c-a8bc-d9af594c29f4",
   "metadata": {},
   "outputs": [
    {
     "data": {
      "text/plain": [
       "10"
      ]
     },
     "execution_count": 2,
     "metadata": {},
     "output_type": "execute_result"
    }
   ],
   "source": [
    "a"
   ]
  },
  {
   "cell_type": "code",
   "execution_count": 3,
   "id": "7ec8880f-189f-4b74-b4f3-90309e439773",
   "metadata": {},
   "outputs": [
    {
     "name": "stdout",
     "output_type": "stream",
     "text": [
      "Hello\n"
     ]
    }
   ],
   "source": [
    "#Statement>> A statement in python is used for creating variables or for displaying values.A statement is an instruction that the python interpreter can execute.\n",
    "\n",
    "print(\"Hello\")"
   ]
  },
  {
   "cell_type": "code",
   "execution_count": null,
   "id": "729b4204-1155-4587-8358-3bd6501dc145",
   "metadata": {},
   "outputs": [],
   "source": []
  }
 ],
 "metadata": {
  "kernelspec": {
   "display_name": "Python 3 (ipykernel)",
   "language": "python",
   "name": "python3"
  },
  "language_info": {
   "codemirror_mode": {
    "name": "ipython",
    "version": 3
   },
   "file_extension": ".py",
   "mimetype": "text/x-python",
   "name": "python",
   "nbconvert_exporter": "python",
   "pygments_lexer": "ipython3",
   "version": "3.10.8"
  }
 },
 "nbformat": 4,
 "nbformat_minor": 5
}
